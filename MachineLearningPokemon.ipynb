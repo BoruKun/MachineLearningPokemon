{
  "nbformat": 4,
  "nbformat_minor": 0,
  "metadata": {
    "kernelspec": {
      "display_name": "Python 3",
      "language": "python",
      "name": "python3"
    },
    "language_info": {
      "codemirror_mode": {
        "name": "ipython",
        "version": 3
      },
      "file_extension": ".py",
      "mimetype": "text/x-python",
      "name": "python",
      "nbconvert_exporter": "python",
      "pygments_lexer": "ipython3",
      "version": "3.6.8"
    },
    "colab": {
      "name": "MachineLearningPokemon.ipynb",
      "provenance": [],
      "collapsed_sections": []
    }
  },
  "cells": [
    {
      "cell_type": "markdown",
      "metadata": {
        "id": "fSbVcddvntle",
        "colab_type": "text"
      },
      "source": [
        "#Построение классификатора и регрессора для дата-сета по покемонам."
      ]
    },
    {
      "cell_type": "code",
      "metadata": {
        "id": "qr5i9UIo_-AO",
        "colab_type": "code",
        "colab": {}
      },
      "source": [
        "\"\"\"\n",
        "https://www.kaggle.com/rounakbanik/pokemon\n",
        "\n",
        "Постройте классификатор, отвечающий на вопрос 'является ли покемон легендарным?'.\n",
        "\n",
        "Наберите команду из N покемонов, максимизирующую причиняемый урон.\n",
        "\n",
        "Евгений Раскин, 192 группа\n",
        "\"\"\"\n",
        "import pandas\n",
        "import matplotlib.pyplot as plt\n",
        "import numpy as np\n",
        "\n",
        "from sklearn.model_selection import ShuffleSplit\n",
        "from sklearn.model_selection import train_test_split\n",
        "from sklearn.naive_bayes import GaussianNB\n",
        "from sklearn.metrics import accuracy_score, mean_absolute_error, mean_squared_error\n",
        "from sklearn.metrics import plot_confusion_matrix, plot_roc_curve\n",
        "from sklearn.model_selection import learning_curve"
      ],
      "execution_count": 2,
      "outputs": []
    },
    {
      "cell_type": "markdown",
      "metadata": {
        "id": "mMVeYmwymcjp",
        "colab_type": "text"
      },
      "source": [
        "После импорта всех модулей, построим классификатор, определяющий легендарных покемонов. Для этого используем алгоритм \"Наивный Байес\"."
      ]
    },
    {
      "cell_type": "code",
      "metadata": {
        "id": "3CznmG_4_-AX",
        "colab_type": "code",
        "colab": {
          "base_uri": "https://localhost:8080/",
          "height": 34
        },
        "outputId": "b1816fd1-4df1-4558-9eac-83546e86f906"
      },
      "source": [
        "# Load our data\n",
        "data = pandas.read_csv(\"pokemon.csv\")\n",
        "\n",
        "# Organize our data\n",
        "X = data.drop(columns=[\"is_legendary\"])\n",
        "y = data[\"is_legendary\"]\n",
        "\n",
        "# Split our data to test and train samples\n",
        "X_train, X_test, y_train, y_test = train_test_split(X, y,test_size=0.3, \n",
        "                                                    random_state=42)\n",
        "\n",
        "# Handle features\n",
        "integer_values = X.select_dtypes(include=['integer']).columns.to_list()\n",
        "\n",
        "# Initialize our classifier\n",
        "gnb = GaussianNB()\n",
        "\n",
        "# Train\n",
        "model = gnb.fit(X_train[integer_values], y_train)\n",
        "\n",
        "# Predict\n",
        "predictions = model.predict(X_test[integer_values])\n",
        "\n",
        "# Evaluate accuracy\n",
        "print(accuracy_score(y_test, predictions))"
      ],
      "execution_count": 3,
      "outputs": [
        {
          "output_type": "stream",
          "text": [
            "0.9626556016597511\n"
          ],
          "name": "stdout"
        }
      ]
    },
    {
      "cell_type": "markdown",
      "metadata": {
        "id": "I6o0rbnxmpNi",
        "colab_type": "text"
      },
      "source": [
        "Выше был подсчитана точность нашей модели. Структура данных видна ниже."
      ]
    },
    {
      "cell_type": "code",
      "metadata": {
        "id": "Y0OF0f46mAjY",
        "colab_type": "code",
        "colab": {
          "base_uri": "https://localhost:8080/",
          "height": 343
        },
        "outputId": "2b2b063b-e33f-41f4-ed08-5a241ef84fc3"
      },
      "source": [
        "data.head(5)"
      ],
      "execution_count": 4,
      "outputs": [
        {
          "output_type": "execute_result",
          "data": {
            "text/html": [
              "<div>\n",
              "<style scoped>\n",
              "    .dataframe tbody tr th:only-of-type {\n",
              "        vertical-align: middle;\n",
              "    }\n",
              "\n",
              "    .dataframe tbody tr th {\n",
              "        vertical-align: top;\n",
              "    }\n",
              "\n",
              "    .dataframe thead th {\n",
              "        text-align: right;\n",
              "    }\n",
              "</style>\n",
              "<table border=\"1\" class=\"dataframe\">\n",
              "  <thead>\n",
              "    <tr style=\"text-align: right;\">\n",
              "      <th></th>\n",
              "      <th>abilities</th>\n",
              "      <th>against_bug</th>\n",
              "      <th>against_dark</th>\n",
              "      <th>against_dragon</th>\n",
              "      <th>against_electric</th>\n",
              "      <th>against_fairy</th>\n",
              "      <th>against_fight</th>\n",
              "      <th>against_fire</th>\n",
              "      <th>against_flying</th>\n",
              "      <th>against_ghost</th>\n",
              "      <th>against_grass</th>\n",
              "      <th>against_ground</th>\n",
              "      <th>against_ice</th>\n",
              "      <th>against_normal</th>\n",
              "      <th>against_poison</th>\n",
              "      <th>against_psychic</th>\n",
              "      <th>against_rock</th>\n",
              "      <th>against_steel</th>\n",
              "      <th>against_water</th>\n",
              "      <th>attack</th>\n",
              "      <th>base_egg_steps</th>\n",
              "      <th>base_happiness</th>\n",
              "      <th>base_total</th>\n",
              "      <th>capture_rate</th>\n",
              "      <th>classfication</th>\n",
              "      <th>defense</th>\n",
              "      <th>experience_growth</th>\n",
              "      <th>height_m</th>\n",
              "      <th>hp</th>\n",
              "      <th>japanese_name</th>\n",
              "      <th>name</th>\n",
              "      <th>percentage_male</th>\n",
              "      <th>pokedex_number</th>\n",
              "      <th>sp_attack</th>\n",
              "      <th>sp_defense</th>\n",
              "      <th>speed</th>\n",
              "      <th>type1</th>\n",
              "      <th>type2</th>\n",
              "      <th>weight_kg</th>\n",
              "      <th>generation</th>\n",
              "      <th>is_legendary</th>\n",
              "    </tr>\n",
              "  </thead>\n",
              "  <tbody>\n",
              "    <tr>\n",
              "      <th>0</th>\n",
              "      <td>['Overgrow', 'Chlorophyll']</td>\n",
              "      <td>1.0</td>\n",
              "      <td>1.0</td>\n",
              "      <td>1.0</td>\n",
              "      <td>0.5</td>\n",
              "      <td>0.5</td>\n",
              "      <td>0.5</td>\n",
              "      <td>2.0</td>\n",
              "      <td>2.0</td>\n",
              "      <td>1.0</td>\n",
              "      <td>0.25</td>\n",
              "      <td>1.0</td>\n",
              "      <td>2.0</td>\n",
              "      <td>1.0</td>\n",
              "      <td>1.0</td>\n",
              "      <td>2.0</td>\n",
              "      <td>1.0</td>\n",
              "      <td>1.0</td>\n",
              "      <td>0.5</td>\n",
              "      <td>49</td>\n",
              "      <td>5120</td>\n",
              "      <td>70</td>\n",
              "      <td>318</td>\n",
              "      <td>45</td>\n",
              "      <td>Seed Pokémon</td>\n",
              "      <td>49</td>\n",
              "      <td>1059860</td>\n",
              "      <td>0.7</td>\n",
              "      <td>45</td>\n",
              "      <td>Fushigidaneフシギダネ</td>\n",
              "      <td>Bulbasaur</td>\n",
              "      <td>88.1</td>\n",
              "      <td>1</td>\n",
              "      <td>65</td>\n",
              "      <td>65</td>\n",
              "      <td>45</td>\n",
              "      <td>grass</td>\n",
              "      <td>poison</td>\n",
              "      <td>6.9</td>\n",
              "      <td>1</td>\n",
              "      <td>0</td>\n",
              "    </tr>\n",
              "    <tr>\n",
              "      <th>1</th>\n",
              "      <td>['Overgrow', 'Chlorophyll']</td>\n",
              "      <td>1.0</td>\n",
              "      <td>1.0</td>\n",
              "      <td>1.0</td>\n",
              "      <td>0.5</td>\n",
              "      <td>0.5</td>\n",
              "      <td>0.5</td>\n",
              "      <td>2.0</td>\n",
              "      <td>2.0</td>\n",
              "      <td>1.0</td>\n",
              "      <td>0.25</td>\n",
              "      <td>1.0</td>\n",
              "      <td>2.0</td>\n",
              "      <td>1.0</td>\n",
              "      <td>1.0</td>\n",
              "      <td>2.0</td>\n",
              "      <td>1.0</td>\n",
              "      <td>1.0</td>\n",
              "      <td>0.5</td>\n",
              "      <td>62</td>\n",
              "      <td>5120</td>\n",
              "      <td>70</td>\n",
              "      <td>405</td>\n",
              "      <td>45</td>\n",
              "      <td>Seed Pokémon</td>\n",
              "      <td>63</td>\n",
              "      <td>1059860</td>\n",
              "      <td>1.0</td>\n",
              "      <td>60</td>\n",
              "      <td>Fushigisouフシギソウ</td>\n",
              "      <td>Ivysaur</td>\n",
              "      <td>88.1</td>\n",
              "      <td>2</td>\n",
              "      <td>80</td>\n",
              "      <td>80</td>\n",
              "      <td>60</td>\n",
              "      <td>grass</td>\n",
              "      <td>poison</td>\n",
              "      <td>13.0</td>\n",
              "      <td>1</td>\n",
              "      <td>0</td>\n",
              "    </tr>\n",
              "    <tr>\n",
              "      <th>2</th>\n",
              "      <td>['Overgrow', 'Chlorophyll']</td>\n",
              "      <td>1.0</td>\n",
              "      <td>1.0</td>\n",
              "      <td>1.0</td>\n",
              "      <td>0.5</td>\n",
              "      <td>0.5</td>\n",
              "      <td>0.5</td>\n",
              "      <td>2.0</td>\n",
              "      <td>2.0</td>\n",
              "      <td>1.0</td>\n",
              "      <td>0.25</td>\n",
              "      <td>1.0</td>\n",
              "      <td>2.0</td>\n",
              "      <td>1.0</td>\n",
              "      <td>1.0</td>\n",
              "      <td>2.0</td>\n",
              "      <td>1.0</td>\n",
              "      <td>1.0</td>\n",
              "      <td>0.5</td>\n",
              "      <td>100</td>\n",
              "      <td>5120</td>\n",
              "      <td>70</td>\n",
              "      <td>625</td>\n",
              "      <td>45</td>\n",
              "      <td>Seed Pokémon</td>\n",
              "      <td>123</td>\n",
              "      <td>1059860</td>\n",
              "      <td>2.0</td>\n",
              "      <td>80</td>\n",
              "      <td>Fushigibanaフシギバナ</td>\n",
              "      <td>Venusaur</td>\n",
              "      <td>88.1</td>\n",
              "      <td>3</td>\n",
              "      <td>122</td>\n",
              "      <td>120</td>\n",
              "      <td>80</td>\n",
              "      <td>grass</td>\n",
              "      <td>poison</td>\n",
              "      <td>100.0</td>\n",
              "      <td>1</td>\n",
              "      <td>0</td>\n",
              "    </tr>\n",
              "    <tr>\n",
              "      <th>3</th>\n",
              "      <td>['Blaze', 'Solar Power']</td>\n",
              "      <td>0.5</td>\n",
              "      <td>1.0</td>\n",
              "      <td>1.0</td>\n",
              "      <td>1.0</td>\n",
              "      <td>0.5</td>\n",
              "      <td>1.0</td>\n",
              "      <td>0.5</td>\n",
              "      <td>1.0</td>\n",
              "      <td>1.0</td>\n",
              "      <td>0.50</td>\n",
              "      <td>2.0</td>\n",
              "      <td>0.5</td>\n",
              "      <td>1.0</td>\n",
              "      <td>1.0</td>\n",
              "      <td>1.0</td>\n",
              "      <td>2.0</td>\n",
              "      <td>0.5</td>\n",
              "      <td>2.0</td>\n",
              "      <td>52</td>\n",
              "      <td>5120</td>\n",
              "      <td>70</td>\n",
              "      <td>309</td>\n",
              "      <td>45</td>\n",
              "      <td>Lizard Pokémon</td>\n",
              "      <td>43</td>\n",
              "      <td>1059860</td>\n",
              "      <td>0.6</td>\n",
              "      <td>39</td>\n",
              "      <td>Hitokageヒトカゲ</td>\n",
              "      <td>Charmander</td>\n",
              "      <td>88.1</td>\n",
              "      <td>4</td>\n",
              "      <td>60</td>\n",
              "      <td>50</td>\n",
              "      <td>65</td>\n",
              "      <td>fire</td>\n",
              "      <td>NaN</td>\n",
              "      <td>8.5</td>\n",
              "      <td>1</td>\n",
              "      <td>0</td>\n",
              "    </tr>\n",
              "    <tr>\n",
              "      <th>4</th>\n",
              "      <td>['Blaze', 'Solar Power']</td>\n",
              "      <td>0.5</td>\n",
              "      <td>1.0</td>\n",
              "      <td>1.0</td>\n",
              "      <td>1.0</td>\n",
              "      <td>0.5</td>\n",
              "      <td>1.0</td>\n",
              "      <td>0.5</td>\n",
              "      <td>1.0</td>\n",
              "      <td>1.0</td>\n",
              "      <td>0.50</td>\n",
              "      <td>2.0</td>\n",
              "      <td>0.5</td>\n",
              "      <td>1.0</td>\n",
              "      <td>1.0</td>\n",
              "      <td>1.0</td>\n",
              "      <td>2.0</td>\n",
              "      <td>0.5</td>\n",
              "      <td>2.0</td>\n",
              "      <td>64</td>\n",
              "      <td>5120</td>\n",
              "      <td>70</td>\n",
              "      <td>405</td>\n",
              "      <td>45</td>\n",
              "      <td>Flame Pokémon</td>\n",
              "      <td>58</td>\n",
              "      <td>1059860</td>\n",
              "      <td>1.1</td>\n",
              "      <td>58</td>\n",
              "      <td>Lizardoリザード</td>\n",
              "      <td>Charmeleon</td>\n",
              "      <td>88.1</td>\n",
              "      <td>5</td>\n",
              "      <td>80</td>\n",
              "      <td>65</td>\n",
              "      <td>80</td>\n",
              "      <td>fire</td>\n",
              "      <td>NaN</td>\n",
              "      <td>19.0</td>\n",
              "      <td>1</td>\n",
              "      <td>0</td>\n",
              "    </tr>\n",
              "  </tbody>\n",
              "</table>\n",
              "</div>"
            ],
            "text/plain": [
              "                     abilities  against_bug  ...  generation  is_legendary\n",
              "0  ['Overgrow', 'Chlorophyll']          1.0  ...           1             0\n",
              "1  ['Overgrow', 'Chlorophyll']          1.0  ...           1             0\n",
              "2  ['Overgrow', 'Chlorophyll']          1.0  ...           1             0\n",
              "3     ['Blaze', 'Solar Power']          0.5  ...           1             0\n",
              "4     ['Blaze', 'Solar Power']          0.5  ...           1             0\n",
              "\n",
              "[5 rows x 41 columns]"
            ]
          },
          "metadata": {
            "tags": []
          },
          "execution_count": 4
        }
      ]
    },
    {
      "cell_type": "markdown",
      "metadata": {
        "id": "4iA1DarGmx2u",
        "colab_type": "text"
      },
      "source": [
        "Построим матрицу неточности, кривую обучения и кривую ROC для оценки классификатора."
      ]
    },
    {
      "cell_type": "code",
      "metadata": {
        "id": "0OpY8SiMMtLe",
        "colab_type": "code",
        "colab": {
          "base_uri": "https://localhost:8080/",
          "height": 279
        },
        "outputId": "1765bbc5-c225-4360-e38f-2cf78559293c"
      },
      "source": [
        "plot_confusion_matrix(gnb, X_test[integer_values], y_test, normalize='all')\n",
        "plt.show()"
      ],
      "execution_count": 5,
      "outputs": [
        {
          "output_type": "display_data",
          "data": {
            "image/png": "[encoded data removed]",
            "text/plain": [
              "<Figure size 432x288 with 2 Axes>"
            ]
          },
          "metadata": {
            "tags": [],
            "needs_background": "light"
          }
        }
      ]
    },
    {
      "cell_type": "code",
      "metadata": {
        "id": "3pZj1vc4OtA7",
        "colab_type": "code",
        "colab": {
          "base_uri": "https://localhost:8080/",
          "height": 295
        },
        "outputId": "e06ced41-cc61-41f4-9dd4-7826f6d97b8c"
      },
      "source": [
        "cv = ShuffleSplit(n_splits=100, test_size=0.2, random_state=0)\n",
        "\n",
        "train_sizes, train_scores, test_scores = learning_curve(gnb, X[integer_values], y, n_jobs=4, cv=cv,\n",
        "                                                        train_sizes=np.linspace(0.1, 1.0, 20))\n",
        "train_scores_mean = np.mean(train_scores, axis=1)\n",
        "test_scores_mean = np.mean(test_scores, axis=1)\n",
        "plt.plot(train_sizes, train_scores_mean, color=\"r\", label=\"Training score\")\n",
        "plt.plot(train_sizes, test_scores_mean, color=\"g\", label=\"Cross-validation score\")\n",
        "plt.grid()\n",
        "plt.legend()\n",
        "plt.title(\"Learning Curves (Naive Bayes)\")\n",
        "plt.xlabel(\"Training examples\")\n",
        "plt.ylabel(\"Score\")\n",
        "plt.show()"
      ],
      "execution_count": 6,
      "outputs": [
        {
          "output_type": "display_data",
          "data": {
            "image/png": "[encoded data removed]",
            "text/plain": [
              "<Figure size 432x288 with 1 Axes>"
            ]
          },
          "metadata": {
            "tags": [],
            "needs_background": "light"
          }
        }
      ]
    },
    {
      "cell_type": "code",
      "metadata": {
        "id": "_7HPS2uDUcix",
        "colab_type": "code",
        "colab": {
          "base_uri": "https://localhost:8080/",
          "height": 279
        },
        "outputId": "3bda4889-4ffa-476e-820b-0704e37b6ff3"
      },
      "source": [
        "plot_roc_curve(gnb, X_test[integer_values], y_test)\n",
        "plt.show()"
      ],
      "execution_count": 7,
      "outputs": [
        {
          "output_type": "display_data",
          "data": {
            "image/png": "[encoded data removed]",
            "text/plain": [
              "<Figure size 432x288 with 1 Axes>"
            ]
          },
          "metadata": {
            "tags": [],
            "needs_background": "light"
          }
        }
      ]
    },
    {
      "cell_type": "markdown",
      "metadata": {
        "id": "DLhUUkTpnCAM",
        "colab_type": "text"
      },
      "source": [
        "Построим теперь линейный регрессор, который будет определять значение атаки для отдельного покемона в зависимости от его характеристик."
      ]
    },
    {
      "cell_type": "code",
      "metadata": {
        "id": "gbxv9oCm_-Ad",
        "colab_type": "code",
        "colab": {
          "base_uri": "https://localhost:8080/",
          "height": 295
        },
        "outputId": "120095fd-21ff-4a5d-cbe2-cadedc237044"
      },
      "source": [
        "from sklearn import linear_model\n",
        "import scipy.stats\n",
        "import numpy as np\n",
        "sp_attacks = data[\"sp_attack\"]\n",
        "X = data.drop(columns=[\"sp_attack\"])\n",
        "y = data[\"sp_attack\"]\n",
        "\n",
        "X_train, X_test, y_train, y_test = train_test_split(X, y,test_size=0.3, \n",
        "                                                    random_state=42)\n",
        "integer_values = X.select_dtypes(include=['integer']).columns.to_list()\n",
        "\n",
        "regression = linear_model.Ridge()\n",
        "model = regression.fit(X_train[integer_values], y_train)\n",
        "\n",
        "# Predict\n",
        "predictions = regression.predict(X_test[integer_values])\n",
        "\n",
        "deviations = []\n",
        "for dummy_i in enumerate(X_test[\"sp_defense\"].keys()):\n",
        "    deviations.append((predictions[dummy_i[0]] - sp_attacks[dummy_i[1]]))\n",
        "deviations = sorted(deviations)\n",
        "# Visualize \n",
        "plt.hist(deviations, bins=30, density=True, color='green')\n",
        "plt.title(\"Distribution of deviations\")\n",
        "plt.xlabel(\"Deviations\")\n",
        "plt.ylabel(\"Probability Density\")\n",
        "plt.grid()\n",
        "plt.show()"
      ],
      "execution_count": 8,
      "outputs": [
        {
          "output_type": "display_data",
          "data": {
            "image/png": "[encoded data removed]",
            "text/plain": [
              "<Figure size 432x288 with 1 Axes>"
            ]
          },
          "metadata": {
            "tags": [],
            "needs_background": "light"
          }
        }
      ]
    },
    {
      "cell_type": "markdown",
      "metadata": {
        "id": "6oVd2F4SnQPF",
        "colab_type": "text"
      },
      "source": [
        "Выше представлено распределение отклонений оценки нашей модели от истинных значений. Построим также кривую обучения для полученного линейного регрессора. "
      ]
    },
    {
      "cell_type": "code",
      "metadata": {
        "id": "lSSs2AnidgNr",
        "colab_type": "code",
        "colab": {
          "base_uri": "https://localhost:8080/",
          "height": 295
        },
        "outputId": "2bbb2be1-9c1c-40af-90de-334a96b15156"
      },
      "source": [
        "cv = ShuffleSplit(n_splits=100, test_size=0.2, random_state=0)\n",
        "\n",
        "train_sizes, train_scores, test_scores = learning_curve(regression, X[integer_values], y, n_jobs=4, cv=cv,\n",
        "                                                        train_sizes=np.linspace(0.1, 1.0, 20))\n",
        "train_scores_mean = np.mean(train_scores, axis=1)\n",
        "test_scores_mean = np.mean(test_scores, axis=1)\n",
        "plt.plot(train_sizes, train_scores_mean, color=\"r\", label=\"Training score\")\n",
        "plt.plot(train_sizes, test_scores_mean, color=\"g\", label=\"Cross-validation score\")\n",
        "plt.grid()\n",
        "plt.legend()\n",
        "plt.title(\"Learning Curves (Linear Regression)\")\n",
        "plt.xlabel(\"Training examples\")\n",
        "plt.ylabel(\"Score\")\n",
        "plt.show()"
      ],
      "execution_count": 9,
      "outputs": [
        {
          "output_type": "display_data",
          "data": {
            "image/png": "[encoded data removed]",
            "text/plain": [
              "<Figure size 432x288 with 1 Axes>"
            ]
          },
          "metadata": {
            "tags": [],
            "needs_background": "light"
          }
        }
      ]
    },
    {
      "cell_type": "markdown",
      "metadata": {
        "id": "9V5nFFftnj0K",
        "colab_type": "text"
      },
      "source": [
        "Вычислим метрики для оценки точности линейного регрессора."
      ]
    },
    {
      "cell_type": "code",
      "metadata": {
        "id": "mNj1KQlHJ7AC",
        "colab_type": "code",
        "colab": {
          "base_uri": "https://localhost:8080/",
          "height": 68
        },
        "outputId": "1d557a6c-22af-4c98-e958-f59e270fc9c7"
      },
      "source": [
        "print('Mean Absolute Error:', mean_absolute_error(y_test, predictions))  \n",
        "print('Mean Squared Error:', mean_squared_error(y_test, predictions))  \n",
        "print('Root Mean Squared Error:', np.sqrt(mean_squared_error(y_test, predictions)))"
      ],
      "execution_count": 10,
      "outputs": [
        {
          "output_type": "stream",
          "text": [
            "Mean Absolute Error: 0.00038075777321997526\n",
            "Mean Squared Error: 2.520526291717532e-07\n",
            "Root Mean Squared Error: 0.0005020484330936142\n"
          ],
          "name": "stdout"
        }
      ]
    },
    {
      "cell_type": "code",
      "metadata": {
        "id": "AtzVxvAKL7-d",
        "colab_type": "code",
        "colab": {}
      },
      "source": [
        "predictions_total = regression.predict(data[integer_values])"
      ],
      "execution_count": 13,
      "outputs": []
    }
  ]
}